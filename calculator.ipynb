{
 "cells": [
  {
   "cell_type": "code",
   "execution_count": 1,
   "id": "7d585ac9-4d14-4ba4-a0a5-b39765e672f6",
   "metadata": {},
   "outputs": [
    {
     "name": "stdout",
     "output_type": "stream",
     "text": [
      "Welcome to the Calculator!\n",
      "Select an operation to perform:\n",
      "1. Addition (+)\n",
      "2. Subtraction (-)\n",
      "3. Multiplication (*)\n",
      "4. Division (/)\n"
     ]
    },
    {
     "name": "stdin",
     "output_type": "stream",
     "text": [
      "Enter the number corresponding to the operation (1/2/3/4):  1\n",
      "Enter the first number:  12\n",
      "Enter the second number:  13\n"
     ]
    },
    {
     "name": "stdout",
     "output_type": "stream",
     "text": [
      "The result of 12.0 + 13.0 is 25.0\n"
     ]
    },
    {
     "name": "stdin",
     "output_type": "stream",
     "text": [
      "Do you want to perform another calculation? (yes/no):  yes\n",
      "Enter the number corresponding to the operation (1/2/3/4):  2\n",
      "Enter the first number:  15\n",
      "Enter the second number:  10\n"
     ]
    },
    {
     "name": "stdout",
     "output_type": "stream",
     "text": [
      "The result of 15.0 - 10.0 is 5.0\n"
     ]
    },
    {
     "name": "stdin",
     "output_type": "stream",
     "text": [
      "Do you want to perform another calculation? (yes/no):  yes\n",
      "Enter the number corresponding to the operation (1/2/3/4):  3\n",
      "Enter the first number:  3\n",
      "Enter the second number:  10\n"
     ]
    },
    {
     "name": "stdout",
     "output_type": "stream",
     "text": [
      "The result of 3.0 * 10.0 is 30.0\n"
     ]
    },
    {
     "name": "stdin",
     "output_type": "stream",
     "text": [
      "Do you want to perform another calculation? (yes/no):  yes\n",
      "Enter the number corresponding to the operation (1/2/3/4):  4\n",
      "Enter the first number:  100\n",
      "Enter the second number:  5\n"
     ]
    },
    {
     "name": "stdout",
     "output_type": "stream",
     "text": [
      "The result of 100.0 / 5.0 is 20.0\n"
     ]
    },
    {
     "name": "stdin",
     "output_type": "stream",
     "text": [
      "Do you want to perform another calculation? (yes/no):  no\n"
     ]
    },
    {
     "name": "stdout",
     "output_type": "stream",
     "text": [
      "Thank you for using the calculator. Goodbye!\n"
     ]
    }
   ],
   "source": [
    "### def calculator():\n",
    "    print(\"Welcome to the Calculator!\")\n",
    "    print(\"Select an operation to perform:\")\n",
    "    print(\"1. Addition (+)\")\n",
    "    print(\"2. Subtraction (-)\")\n",
    "    print(\"3. Multiplication (*)\")\n",
    "    print(\"4. Division (/)\")\n",
    "\n",
    "    while True:\n",
    "        # Get user input for the operation\n",
    "        choice = input(\"Enter the number corresponding to the operation (1/2/3/4): \")\n",
    "        \n",
    "        if choice in ['1', '2', '3', '4']:\n",
    "            try:\n",
    "                # Get user input for numbers\n",
    "                num1 = float(input(\"Enter the first number: \"))\n",
    "                num2 = float(input(\"Enter the second number: \"))\n",
    "\n",
    "                # Perform the selected operation\n",
    "                if choice == '1':\n",
    "                    print(f\"The result of {num1} + {num2} is {num1 + num2}\")\n",
    "                elif choice == '2':\n",
    "                    print(f\"The result of {num1} - {num2} is {num1 - num2}\")\n",
    "                elif choice == '3':\n",
    "                    print(f\"The result of {num1} * {num2} is {num1 * num2}\")\n",
    "                elif choice == '4':\n",
    "                    if num2 != 0:\n",
    "                        print(f\"The result of {num1} / {num2} is {num1 / num2}\")\n",
    "                    else:\n",
    "                        print(\"Error: Division by zero is not allowed.\")\n",
    "            except ValueError:\n",
    "                print(\"Invalid input! Please enter numeric values.\")\n",
    "        else:\n",
    "            print(\"Invalid choice! Please select a valid operation.\")\n",
    "\n",
    "        next_calculation = input(\"Do you want to perform another calculation? (yes/no): \").lower()\n",
    "        if next_calculation != 'yes':\n",
    "            print(\"Thank you for using the calculator. Goodbye!\")\n",
    "            break\n",
    "calculator()"
   ]
  }
 ],
 "metadata": {
  "kernelspec": {
   "display_name": "Python [conda env:base] *",
   "language": "python",
   "name": "conda-base-py"
  },
  "language_info": {
   "codemirror_mode": {
    "name": "ipython",
    "version": 3
   },
   "file_extension": ".py",
   "mimetype": "text/x-python",
   "name": "python",
   "nbconvert_exporter": "python",
   "pygments_lexer": "ipython3",
   "version": "3.12.7"
  }
 },
 "nbformat": 4,
 "nbformat_minor": 5
}
